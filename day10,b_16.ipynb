{
 "cells": [
  {
   "cell_type": "code",
   "execution_count": 1,
   "metadata": {},
   "outputs": [
    {
     "name": "stdout",
     "output_type": "stream",
     "text": [
      "{'username': 'jyosthnareddy11', 'password': 7890, 'first_name': 'jyosthna', 'last_name': 'reddy'}\n"
     ]
    }
   ],
   "source": [
    "useraccount={'username':'jyosthnareddy11','password':7890,'first_name':'jyosthna','last_name':'reddy'}\n",
    "print(useraccount)"
   ]
  },
  {
   "cell_type": "code",
   "execution_count": 3,
   "metadata": {},
   "outputs": [
    {
     "name": "stdout",
     "output_type": "stream",
     "text": [
      "username\n",
      "jyosthnareddy11\n",
      "password\n",
      "7890\n",
      "first_name\n",
      "jyosthna\n",
      "last_name\n",
      "reddy\n"
     ]
    }
   ],
   "source": [
    "for x,y in useraccount.items():\n",
    "    print(x)\n",
    "    print(y)"
   ]
  },
  {
   "cell_type": "code",
   "execution_count": 4,
   "metadata": {},
   "outputs": [
    {
     "name": "stdout",
     "output_type": "stream",
     "text": [
      "username\n",
      "password\n",
      "first_name\n",
      "last_name\n"
     ]
    }
   ],
   "source": [
    "for x in useraccount.keys():\n",
    "    print(x)"
   ]
  },
  {
   "cell_type": "code",
   "execution_count": 5,
   "metadata": {},
   "outputs": [
    {
     "name": "stdout",
     "output_type": "stream",
     "text": [
      "jyosthnareddy11\n",
      "7890\n",
      "jyosthna\n",
      "reddy\n"
     ]
    }
   ],
   "source": [
    "for y in useraccount.values():\n",
    "    print(y)"
   ]
  },
  {
   "cell_type": "code",
   "execution_count": null,
   "metadata": {},
   "outputs": [],
   "source": []
  }
 ],
 "metadata": {
  "kernelspec": {
   "display_name": "Python 3",
   "language": "python",
   "name": "python3"
  },
  "language_info": {
   "codemirror_mode": {
    "name": "ipython",
    "version": 3
   },
   "file_extension": ".py",
   "mimetype": "text/x-python",
   "name": "python",
   "nbconvert_exporter": "python",
   "pygments_lexer": "ipython3",
   "version": "3.7.6"
  }
 },
 "nbformat": 4,
 "nbformat_minor": 4
}
