{
 "cells": [
  {
   "cell_type": "code",
   "execution_count": 1,
   "metadata": {},
   "outputs": [],
   "source": [
    "#return values of the function:"
   ]
  },
  {
   "cell_type": "code",
   "execution_count": 4,
   "metadata": {},
   "outputs": [],
   "source": [
    "def get_formatted_name(first_name,last_name):\n",
    "    \"\"\"return a full name\"\"\"\n",
    "    full_name=f\"{first_name} {last_name}\"\n",
    "    return full_name"
   ]
  },
  {
   "cell_type": "code",
   "execution_count": 5,
   "metadata": {},
   "outputs": [
    {
     "name": "stdout",
     "output_type": "stream",
     "text": [
      "Jyosthna Reddy\n"
     ]
    }
   ],
   "source": [
    "student=get_formatted_name('jyosthna','reddy')\n",
    "print(student.title())"
   ]
  },
  {
   "cell_type": "code",
   "execution_count": 6,
   "metadata": {},
   "outputs": [
    {
     "data": {
      "text/plain": [
       "'naveen reddy'"
      ]
     },
     "execution_count": 6,
     "metadata": {},
     "output_type": "execute_result"
    }
   ],
   "source": [
    "get_formatted_name('naveen','reddy')"
   ]
  },
  {
   "cell_type": "code",
   "execution_count": 7,
   "metadata": {},
   "outputs": [],
   "source": [
    "def define_person(first_name,last_name):\n",
    "    \"\"\"return full information of a person\"\"\"\n",
    "    person={'first':first_name,'last':last_name}\n",
    "    return person"
   ]
  },
  {
   "cell_type": "code",
   "execution_count": 8,
   "metadata": {},
   "outputs": [
    {
     "name": "stdout",
     "output_type": "stream",
     "text": [
      "{'first': 'jyosthna', 'last': 'reddy'}\n"
     ]
    }
   ],
   "source": [
    "stud=define_person('jyosthna','reddy')\n",
    "print(stud)"
   ]
  },
  {
   "cell_type": "code",
   "execution_count": 11,
   "metadata": {},
   "outputs": [],
   "source": [
    "def define_person(first_name,last_name,age,location,pincode):\n",
    "    \"\"\"return full information of a person\"\"\"\n",
    "    person={'first':first_name,'last':last_name,'current_age':age,'residency':location,'geo_location':pincode}\n",
    "    return person"
   ]
  },
  {
   "cell_type": "code",
   "execution_count": 12,
   "metadata": {},
   "outputs": [
    {
     "name": "stdout",
     "output_type": "stream",
     "text": [
      "{'first': 'jyosthna', 'last': 'reddy', 'current_age': '21', 'residency': 'guntur', 'geo_location': '522616'}\n"
     ]
    }
   ],
   "source": [
    "stud=define_person('jyosthna','reddy','21','guntur','522616')\n",
    "print(stud)"
   ]
  },
  {
   "cell_type": "code",
   "execution_count": null,
   "metadata": {},
   "outputs": [],
   "source": [
    "#passing a list of functions:"
   ]
  },
  {
   "cell_type": "code",
   "execution_count": 13,
   "metadata": {},
   "outputs": [],
   "source": [
    "my_list=['faraz','rahul','subrata','jyosthna','harshini','aishwarya','ashok','venkat']"
   ]
  },
  {
   "cell_type": "code",
   "execution_count": 14,
   "metadata": {},
   "outputs": [],
   "source": [
    "def greet_students(names):\n",
    "    \"\"\"congratulate all the students who are practising regularly\"\"\"\n",
    "    for x in names:\n",
    "        msg=f\"keep up the good work,{x.title()}\"\n",
    "        print(msg)"
   ]
  },
  {
   "cell_type": "code",
   "execution_count": 15,
   "metadata": {},
   "outputs": [
    {
     "name": "stdout",
     "output_type": "stream",
     "text": [
      "keep up the good work,Faraz\n",
      "keep up the good work,Rahul\n",
      "keep up the good work,Subrata\n",
      "keep up the good work,Jyosthna\n",
      "keep up the good work,Harshini\n",
      "keep up the good work,Aishwarya\n",
      "keep up the good work,Ashok\n",
      "keep up the good work,Venkat\n"
     ]
    }
   ],
   "source": [
    "greet_students(my_list)"
   ]
  },
  {
   "cell_type": "code",
   "execution_count": 16,
   "metadata": {},
   "outputs": [],
   "source": [
    "frnds=['harika','sai']"
   ]
  },
  {
   "cell_type": "code",
   "execution_count": 17,
   "metadata": {},
   "outputs": [],
   "source": [
    "def wishes(names):\n",
    "    \"\"\"early mrng greetings to my frnds\"\"\"\n",
    "    for x in names:\n",
    "        msg=f\"Good Morning\"\n",
    "        msg+=f\"\\n have a nice day,{x.title()}\"\n",
    "        print(msg)"
   ]
  },
  {
   "cell_type": "code",
   "execution_count": 18,
   "metadata": {},
   "outputs": [
    {
     "name": "stdout",
     "output_type": "stream",
     "text": [
      "Good Morning\n",
      " have a nice day,Harika\n",
      "Good Morning\n",
      " have a nice day,Sai\n"
     ]
    }
   ],
   "source": [
    "wishes(frnds)"
   ]
  },
  {
   "cell_type": "code",
   "execution_count": null,
   "metadata": {},
   "outputs": [],
   "source": []
  }
 ],
 "metadata": {
  "kernelspec": {
   "display_name": "Python 3",
   "language": "python",
   "name": "python3"
  },
  "language_info": {
   "codemirror_mode": {
    "name": "ipython",
    "version": 3
   },
   "file_extension": ".py",
   "mimetype": "text/x-python",
   "name": "python",
   "nbconvert_exporter": "python",
   "pygments_lexer": "ipython3",
   "version": "3.7.6"
  }
 },
 "nbformat": 4,
 "nbformat_minor": 4
}
