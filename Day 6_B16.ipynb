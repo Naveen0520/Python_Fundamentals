{
 "cells": [
  {
   "cell_type": "code",
   "execution_count": 1,
   "metadata": {},
   "outputs": [],
   "source": [
    "#introduction to looping stmts:"
   ]
  },
  {
   "cell_type": "code",
   "execution_count": 2,
   "metadata": {},
   "outputs": [
    {
     "name": "stdout",
     "output_type": "stream",
     "text": [
      "['ravi', 'vivek', 'laxmi', 'spandana', 'harika']\n"
     ]
    }
   ],
   "source": [
    "students=['ravi','vivek','laxmi','spandana','harika']\n",
    "print(students)"
   ]
  },
  {
   "cell_type": "code",
   "execution_count": 3,
   "metadata": {},
   "outputs": [
    {
     "name": "stdout",
     "output_type": "stream",
     "text": [
      "ravi\n",
      "vivek\n",
      "laxmi\n",
      "spandana\n",
      "harika\n"
     ]
    }
   ],
   "source": [
    "for x in students:\n",
    "    print(x)"
   ]
  },
  {
   "cell_type": "code",
   "execution_count": 6,
   "metadata": {},
   "outputs": [
    {
     "name": "stdout",
     "output_type": "stream",
     "text": [
      "appreciate your work,keep up the same ravi\n",
      "appreciate your work,keep up the same vivek\n",
      "appreciate your work,keep up the same laxmi\n",
      "appreciate your work,keep up the same spandana\n",
      "appreciate your work,keep up the same harika\n"
     ]
    }
   ],
   "source": [
    "for y in students:\n",
    "    print(f\"appreciate your work,keep up the same {y}\")"
   ]
  },
  {
   "cell_type": "code",
   "execution_count": 7,
   "metadata": {},
   "outputs": [
    {
     "name": "stdout",
     "output_type": "stream",
     "text": [
      "appreciate your work,keep up the same ravi\n",
      "looking for all u r practice files of today as wellravi.\n",
      "\n",
      "appreciate your work,keep up the same vivek\n",
      "looking for all u r practice files of today as wellvivek.\n",
      "\n",
      "appreciate your work,keep up the same laxmi\n",
      "looking for all u r practice files of today as welllaxmi.\n",
      "\n",
      "appreciate your work,keep up the same spandana\n",
      "looking for all u r practice files of today as wellspandana.\n",
      "\n",
      "appreciate your work,keep up the same harika\n",
      "looking for all u r practice files of today as wellharika.\n",
      "\n"
     ]
    }
   ],
   "source": [
    "for y in students:\n",
    "    print(f\"appreciate your work,keep up the same {y}\")\n",
    "    print(f\"looking for all u r practice files of today as well{y}.\\n\")"
   ]
  },
  {
   "cell_type": "code",
   "execution_count": 10,
   "metadata": {},
   "outputs": [
    {
     "name": "stdout",
     "output_type": "stream",
     "text": [
      "appreciate your work,keep up the same \n",
      "looking for all u r practice files of today as well ravi.\n",
      "\n",
      "appreciate your work,keep up the same \n",
      "looking for all u r practice files of today as well vivek.\n",
      "\n",
      "appreciate your work,keep up the same \n",
      "looking for all u r practice files of today as well laxmi.\n",
      "\n",
      "appreciate your work,keep up the same \n",
      "looking for all u r practice files of today as well spandana.\n",
      "\n",
      "appreciate your work,keep up the same \n",
      "looking for all u r practice files of today as well harika.\n",
      "\n"
     ]
    }
   ],
   "source": [
    "for y in students:\n",
    "    print(f\"appreciate your work,keep up the same \\nlooking for all u r practice files of today as well {y}.\\n\")\n"
   ]
  },
  {
   "cell_type": "code",
   "execution_count": 11,
   "metadata": {},
   "outputs": [
    {
     "name": "stdout",
     "output_type": "stream",
     "text": [
      "1\n",
      "2\n",
      "3\n",
      "4\n",
      "5\n",
      "6\n",
      "7\n",
      "8\n",
      "9\n",
      "10\n",
      "11\n",
      "12\n",
      "13\n",
      "14\n",
      "15\n",
      "16\n",
      "17\n",
      "18\n",
      "19\n",
      "20\n",
      "21\n",
      "22\n",
      "23\n",
      "24\n",
      "25\n",
      "26\n",
      "27\n",
      "28\n",
      "29\n"
     ]
    }
   ],
   "source": [
    "for value in range(1,30):\n",
    "    print(value)"
   ]
  },
  {
   "cell_type": "code",
   "execution_count": 12,
   "metadata": {},
   "outputs": [
    {
     "name": "stdout",
     "output_type": "stream",
     "text": [
      "[1, 2, 3, 4, 5, 6, 7, 8, 9, 10]\n"
     ]
    }
   ],
   "source": [
    "numbers=list(range(1,11))\n",
    "print(numbers)"
   ]
  },
  {
   "cell_type": "code",
   "execution_count": 13,
   "metadata": {},
   "outputs": [
    {
     "name": "stdout",
     "output_type": "stream",
     "text": [
      "[2, 4, 6, 8, 10, 12, 14, 16, 18, 20, 22, 24, 26, 28]\n"
     ]
    }
   ],
   "source": [
    "even_num=list(range(2,30,2))\n",
    "print(even_num)"
   ]
  },
  {
   "cell_type": "code",
   "execution_count": 15,
   "metadata": {},
   "outputs": [
    {
     "name": "stdout",
     "output_type": "stream",
     "text": [
      "[1, 3, 5, 7, 9, 11, 13, 15, 17, 19, 21, 23, 25, 27, 29]\n"
     ]
    }
   ],
   "source": [
    "odd_num=list(range(1,30,2))\n",
    "print(odd_num)"
   ]
  },
  {
   "cell_type": "markdown",
   "metadata": {},
   "source": []
  },
  {
   "cell_type": "code",
   "execution_count": null,
   "metadata": {},
   "outputs": [],
   "source": []
  }
 ],
 "metadata": {
  "kernelspec": {
   "display_name": "Python 3",
   "language": "python",
   "name": "python3"
  },
  "language_info": {
   "codemirror_mode": {
    "name": "ipython",
    "version": 3
   },
   "file_extension": ".py",
   "mimetype": "text/x-python",
   "name": "python",
   "nbconvert_exporter": "python",
   "pygments_lexer": "ipython3",
   "version": "3.7.6"
  }
 },
 "nbformat": 4,
 "nbformat_minor": 4
}
