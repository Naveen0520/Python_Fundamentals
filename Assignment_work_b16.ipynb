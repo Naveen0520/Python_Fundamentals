{
 "cells": [
  {
   "cell_type": "code",
   "execution_count": 10,
   "metadata": {},
   "outputs": [],
   "source": [
    "sandwiches=['GRILLED','TANDOORI','COLESLAW','PINEWHEEL','ROLLS','BACKED']"
   ]
  },
  {
   "cell_type": "code",
   "execution_count": 14,
   "metadata": {},
   "outputs": [],
   "source": [
    "def diff_sandwiches(sandwiches):\n",
    "    \"\"\"ordering of sandwiches\"\"\"\n",
    "    print(f\"{sandwiches} sandwich is order.\")"
   ]
  },
  {
   "cell_type": "code",
   "execution_count": 15,
   "metadata": {},
   "outputs": [
    {
     "name": "stdout",
     "output_type": "stream",
     "text": [
      "GRILLED sandwich is order.\n"
     ]
    }
   ],
   "source": [
    "diff_sandwiches(sandwiches[0])"
   ]
  },
  {
   "cell_type": "code",
   "execution_count": 16,
   "metadata": {},
   "outputs": [
    {
     "name": "stdout",
     "output_type": "stream",
     "text": [
      "PINEWHEEL sandwich is order.\n"
     ]
    }
   ],
   "source": [
    "diff_sandwiches(sandwiches[3])"
   ]
  },
  {
   "cell_type": "code",
   "execution_count": 18,
   "metadata": {},
   "outputs": [
    {
     "name": "stdout",
     "output_type": "stream",
     "text": [
      "['PINEWHEEL', 'ROLLS', 'BACKED'] sandwich is order.\n"
     ]
    }
   ],
   "source": [
    "diff_sandwiches(sandwiches[3:])"
   ]
  },
  {
   "cell_type": "code",
   "execution_count": 20,
   "metadata": {},
   "outputs": [
    {
     "name": "stdout",
     "output_type": "stream",
     "text": [
      "['GRILLED', 'TANDOORI', 'COLESLAW'] sandwich is order.\n"
     ]
    }
   ],
   "source": [
    "diff_sandwiches(sandwiches[:-3])"
   ]
  },
  {
   "cell_type": "code",
   "execution_count": null,
   "metadata": {},
   "outputs": [],
   "source": [
    "#case2:"
   ]
  },
  {
   "cell_type": "code",
   "execution_count": 69,
   "metadata": {},
   "outputs": [],
   "source": [
    "def make_car(manufacturer,modelname,color,package):\n",
    "    \"\"\"about a car\"\"\"\n",
    "    car={'Manufacture_name':manufacturer,'Model_name':modelname,'Color_name':color,'Tow_package':package}\n",
    "    return car\n",
    "    "
   ]
  },
  {
   "cell_type": "code",
   "execution_count": 72,
   "metadata": {},
   "outputs": [
    {
     "name": "stdout",
     "output_type": "stream",
     "text": [
      "{'Manufacture_name': 'subaru', 'Model_name': 'outback', 'Color_name': 'blue', 'Tow_package': True}\n"
     ]
    }
   ],
   "source": [
    "car=make_car('subaru','outback',color='blue',package=True)\n",
    "print(car)"
   ]
  },
  {
   "cell_type": "code",
   "execution_count": null,
   "metadata": {},
   "outputs": [],
   "source": []
  },
  {
   "cell_type": "code",
   "execution_count": null,
   "metadata": {},
   "outputs": [],
   "source": []
  },
  {
   "cell_type": "code",
   "execution_count": null,
   "metadata": {},
   "outputs": [],
   "source": []
  },
  {
   "cell_type": "code",
   "execution_count": null,
   "metadata": {},
   "outputs": [],
   "source": []
  },
  {
   "cell_type": "code",
   "execution_count": null,
   "metadata": {},
   "outputs": [],
   "source": []
  },
  {
   "cell_type": "code",
   "execution_count": null,
   "metadata": {},
   "outputs": [],
   "source": []
  }
 ],
 "metadata": {
  "kernelspec": {
   "display_name": "Python 3",
   "language": "python",
   "name": "python3"
  },
  "language_info": {
   "codemirror_mode": {
    "name": "ipython",
    "version": 3
   },
   "file_extension": ".py",
   "mimetype": "text/x-python",
   "name": "python",
   "nbconvert_exporter": "python",
   "pygments_lexer": "ipython3",
   "version": "3.7.6"
  }
 },
 "nbformat": 4,
 "nbformat_minor": 4
}
